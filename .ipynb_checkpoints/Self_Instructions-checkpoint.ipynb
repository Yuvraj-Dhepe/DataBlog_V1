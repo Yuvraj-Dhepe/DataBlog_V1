{
 "cells": [
  {
   "attachments": {},
   "cell_type": "markdown",
   "metadata": {},
   "source": [
    "### References \n",
    "- Read Later\n",
    "    - [ ] [Github_Actions](https://docs.github.com/en/actions/learn-github-actions/understanding-github-actions)\n",
    "    - [ ] [Github_Pages](https://docs.github.com/en/pages)"
   ]
  },
  {
   "cell_type": "markdown",
   "metadata": {},
   "source": [
    "### Publishing Content"
   ]
  },
  {
   "attachments": {},
   "cell_type": "markdown",
   "metadata": {},
   "source": [
    "- Create a gh-pages branch\n",
    "    - git checkout --orphan gh-pages #Creation of new branch\n",
    "    - git reset --hard # make sure you've committed changes before running this! # This makes the gh-pages branch as the current one.\n",
    "    - git commit --allow-empty -m \"Initialising gh-pages branch\"\n",
    "    - git push <repo_name> gh-pages #Remember for current branch the repo_name is my_repo, but by default the name is origin.\n",
    "    - For publishing to github pages follow the site:https://quarto.org/docs/publishing/github-pages.html\n",
    "\n",
    "- Once this is done do gh-configuration on github repo.\n",
    "    - [github-pages_config](#gh-page-config)\n",
    "\n",
    "- Publish first to [Quarto Pub](https://quarto.org/docs/publishing/quarto-pub.html)\n",
    "    - Add the following content to [_publish.yml](#_publish) in the main directory\n",
    "\n",
    "\n",
    "    - Run the command quarto publish with Quarto-Pub and follow the authorization steps.\n",
    "\n",
    "- Publish to [gh-pages](https://quarto.org/docs/publishing/quarto-pub.html#github-action)\n",
    "    - Create a [publish.yml](#publish) file in .github/workflows directory with the following content\n",
    "    - Add _site and .quarto to .gitignore file to ignore those folders staging.\n",
    "    - To render codes, setup a virtual env and update the publish.yml.\n",
    "    - Ref: [Executing Codes](https://quarto.org/docs/publishing/quarto-pub.html#executing-code), [Quarto setting up virtual_envs](https://quarto.org/docs/projects/virtual-environments.html)"
   ]
  },
  {
   "cell_type": "markdown",
   "metadata": {},
   "source": [
    "#### imgs\n",
    "<a id = 'gh-page-config'></a>"
   ]
  },
  {
   "attachments": {},
   "cell_type": "markdown",
   "metadata": {},
   "source": [
    "![gh_pages](./images/gh_1.jpg)\n",
    "![actions_secret](./images/gh_2.jpg)\n",
    "![actions_permissions](./images/gh_3.jpg)"
   ]
  },
  {
   "attachments": {},
   "cell_type": "markdown",
   "metadata": {},
   "source": [
    "#### YAML Codes"
   ]
  },
  {
   "attachments": {},
   "cell_type": "markdown",
   "metadata": {},
   "source": [
    "<a id = \"_publish\"></a>\n",
    "```yaml\n",
    "- source: project\n",
    "    quarto-pub:\n",
    "        - id: 1a303cb3-ce18-42f5-85e8-873316e2d3d8\n",
    "        url: 'https://quartopub.com/sites/yuvraj-dhepe/data-science-blog'\n",
    "```\n"
   ]
  },
  {
   "attachments": {},
   "cell_type": "markdown",
   "metadata": {},
   "source": [
    "<a id = \"publish\"><a>\n",
    "```yaml\n",
    "on:\n",
    "  workflow_dispatch:\n",
    "  push:\n",
    "    branches: master\n",
    "\n",
    "name: Quarto Publish on Github Pages\n",
    "\n",
    "jobs:\n",
    "  build-deploy:\n",
    "    runs-on: ubuntu-latest\n",
    "    permissions:\n",
    "      contents: write\n",
    "    steps:\n",
    "      - name: Check out repository\n",
    "        uses: actions/checkout@v3\n",
    "        with:\n",
    "          node-version: 16.x\n",
    "        # Update Node.js version to 16\n",
    "\n",
    "      - name: Set up Quarto\n",
    "        uses: quarto-dev/quarto-actions/setup@v2 #using quarto-development github pages to use actions for gh-pages posting. \n",
    "        with:\n",
    "          # to install LaTeX to build PDF book\n",
    "          tinytex: true\n",
    "\n",
    "      - name: Render and Publish #Publishing to github pages and rendering.\n",
    "        uses: quarto-dev/quarto-actions/publish@v2\n",
    "        with:\n",
    "          target: gh-pages\n",
    "        env:\n",
    "          GITHUB_TOKEN: ${{ secrets.GITHUB_TOKEN }} # this secret is always available for github actions so no need to add it again in secrets\n",
    "```"
   ]
  }
 ],
 "metadata": {
  "kernelspec": {
   "display_name": "fastai",
   "language": "python",
   "name": "python3"
  },
  "language_info": {
   "codemirror_mode": {
    "name": "ipython",
    "version": 3
   },
   "file_extension": ".py",
   "mimetype": "text/x-python",
   "name": "python",
   "nbconvert_exporter": "python",
   "pygments_lexer": "ipython3",
   "version": "3.10.9"
  },
  "orig_nbformat": 4
 },
 "nbformat": 4,
 "nbformat_minor": 2
}
