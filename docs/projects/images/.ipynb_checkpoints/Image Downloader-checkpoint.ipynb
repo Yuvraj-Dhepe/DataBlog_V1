{
 "cells": [
  {
   "cell_type": "markdown",
   "id": "974e62f0-5026-43c9-ac2b-efda68093de2",
   "metadata": {},
   "source": [
    "### Getting inside the images folder"
   ]
  },
  {
   "cell_type": "code",
   "execution_count": 3,
   "id": "2cb5c185-3cc9-4027-9d5c-a0d1ddebf4b7",
   "metadata": {
    "tags": []
   },
   "outputs": [
    {
     "name": "stdout",
     "output_type": "stream",
     "text": [
      "/home/yuvi_dh/side_projects/learn_tools/quarto/Blog/docs/projects/images\n"
     ]
    }
   ],
   "source": [
    "%cd side_projects/learn_tools/quarto/Blog/docs/projects/images/"
   ]
  },
  {
   "cell_type": "markdown",
   "id": "413672d4-b29f-457a-b18e-bade467e412d",
   "metadata": {},
   "source": [
    "### RL Course Images"
   ]
  }
 ],
 "metadata": {
  "kernelspec": {
   "display_name": "Python 3 (ipykernel)",
   "language": "python",
   "name": "python3"
  },
  "language_info": {
   "codemirror_mode": {
    "name": "ipython",
    "version": 3
   },
   "file_extension": ".py",
   "mimetype": "text/x-python",
   "name": "python",
   "nbconvert_exporter": "python",
   "pygments_lexer": "ipython3",
   "version": "3.11.3"
  }
 },
 "nbformat": 4,
 "nbformat_minor": 5
}
