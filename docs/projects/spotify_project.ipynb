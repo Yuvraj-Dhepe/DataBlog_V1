{
 "cells": [
  {
   "cell_type": "markdown",
   "metadata": {},
   "source": [
    "---\n",
    "title: \"Spotify World Insights Viz\"\n",
    "description: \"Data Viz Project From Uni\"\n",
    "format:\n",
    "    html:\n",
    "        code-fold: false\n",
    "render-on-save: true\n",
    "execute:\n",
    "    eval: false\n",
    "    echo: true\n",
    "jupyter: python3\n",
    "output:\n",
    "  quarto::html_document:\n",
    "    self_contained: false\n",
    "    keep_md: false\n",
    "\n",
    "categories:\n",
    "    - Data Viz\n",
    "image: ./images/Spotify.png\n",
    "---"
   ]
  },
  {
   "cell_type": "markdown",
   "metadata": {},
   "source": [
    "### Installing Libraries"
   ]
  },
  {
   "cell_type": "code",
   "execution_count": 55,
   "metadata": {
    "tags": []
   },
   "outputs": [],
   "source": [
    "# %%capture\n",
    "# #!pip install squarify geopandas plotly Ipython ipywidget dash"
   ]
  },
  {
   "cell_type": "markdown",
   "metadata": {},
   "source": [
    "### Importing Libraries"
   ]
  },
  {
   "cell_type": "code",
   "execution_count": 56,
   "metadata": {
    "tags": []
   },
   "outputs": [],
   "source": [
    "import random\n",
    "import squarify\n",
    "import pandas as pd\n",
    "import numpy as np\n",
    "import seaborn as sns\n",
    "sns.set_context(\"talk\", font_scale=1.2)\n",
    "sns.set_style('white')\n",
    "import geopandas as gpd\n",
    "import matplotlib.pyplot as plt\n",
    "%matplotlib inline\n",
    "import plotly.graph_objects as go\n",
    "from IPython.display import HTML\n",
    "from ipywidgets import interact, Dropdown\n",
    "# from googlesearch import search"
   ]
  },
  {
   "cell_type": "markdown",
   "metadata": {},
   "source": [
    "### Importing the Dataset and Processing a Bit"
   ]
  },
  {
   "cell_type": "code",
   "execution_count": 57,
   "metadata": {
    "tags": []
   },
   "outputs": [
    {
     "data": {
      "text/plain": [
       "(225456, 28)"
      ]
     },
     "execution_count": 57,
     "metadata": {},
     "output_type": "execute_result"
    }
   ],
   "source": [
    "data = pd.read_csv(\"~/side_projects/Projects/DataVizProject/spotify_with_locations.csv\", index_col=0)\n",
    "data.shape"
   ]
  },
  {
   "cell_type": "code",
   "execution_count": 58,
   "metadata": {
    "tags": []
   },
   "outputs": [
    {
     "name": "stdout",
     "output_type": "stream",
     "text": [
      "<class 'pandas.core.frame.DataFrame'>\n",
      "Int64Index: 225456 entries, 0 to 225455\n",
      "Data columns (total 28 columns):\n",
      " #   Column            Non-Null Count   Dtype  \n",
      "---  ------            --------------   -----  \n",
      " 0   acousticness      225456 non-null  float64\n",
      " 1   artists           225444 non-null  object \n",
      " 2   danceability      225456 non-null  float64\n",
      " 3   duration_ms       225456 non-null  int64  \n",
      " 4   energy            225456 non-null  float64\n",
      " 5   explicit          225456 non-null  int64  \n",
      " 6   id                225456 non-null  object \n",
      " 7   instrumentalness  225456 non-null  float64\n",
      " 8   key               225456 non-null  int64  \n",
      " 9   liveness          225456 non-null  float64\n",
      " 10  loudness          225456 non-null  float64\n",
      " 11  mode              225456 non-null  int64  \n",
      " 12  name              225456 non-null  object \n",
      " 13  popularity        225456 non-null  int64  \n",
      " 14  release_date      225456 non-null  object \n",
      " 15  speechiness       225456 non-null  float64\n",
      " 16  tempo             225456 non-null  float64\n",
      " 17  valence           225456 non-null  float64\n",
      " 18  year              225456 non-null  int64  \n",
      " 19  mbid              181952 non-null  object \n",
      " 20  artist_lastfm     177791 non-null  object \n",
      " 21  country_mb        171605 non-null  object \n",
      " 22  country_lastfm    132978 non-null  object \n",
      " 23  tags_mb           142502 non-null  object \n",
      " 24  tags_lastfm       160841 non-null  object \n",
      " 25  listeners_lastfm  177791 non-null  float64\n",
      " 26  scrobbles_lastfm  177791 non-null  float64\n",
      " 27  ambiguous_artist  181952 non-null  object \n",
      "dtypes: float64(11), int64(6), object(11)\n",
      "memory usage: 49.9+ MB\n"
     ]
    }
   ],
   "source": [
    "data.info()"
   ]
  },
  {
   "cell_type": "code",
   "execution_count": 59,
   "metadata": {
    "tags": []
   },
   "outputs": [
    {
     "data": {
      "text/plain": [
       "acousticness            0\n",
       "artists                12\n",
       "danceability            0\n",
       "duration_ms             0\n",
       "energy                  0\n",
       "explicit                0\n",
       "id                      0\n",
       "instrumentalness        0\n",
       "key                     0\n",
       "liveness                0\n",
       "loudness                0\n",
       "mode                    0\n",
       "name                    0\n",
       "popularity              0\n",
       "release_date            0\n",
       "speechiness             0\n",
       "tempo                   0\n",
       "valence                 0\n",
       "year                    0\n",
       "mbid                43504\n",
       "artist_lastfm       47665\n",
       "country_mb          53851\n",
       "country_lastfm      92478\n",
       "tags_mb             82954\n",
       "tags_lastfm         64615\n",
       "listeners_lastfm    47665\n",
       "scrobbles_lastfm    47665\n",
       "ambiguous_artist    43504\n",
       "dtype: int64"
      ]
     },
     "execution_count": 59,
     "metadata": {},
     "output_type": "execute_result"
    }
   ],
   "source": [
    "# How much of the data is null\n",
    "data.isnull().sum()"
   ]
  },
  {
   "cell_type": "code",
   "execution_count": 60,
   "metadata": {
    "tags": []
   },
   "outputs": [],
   "source": [
    "# Removing columns which are not useful\n",
    "data = data.drop(['mbid','country_lastfm', 'tags_mb', 'listeners_lastfm','scrobbles_lastfm','id', 'ambiguous_artist','artist_lastfm'], axis = 1)\n",
    "data = data.rename(columns = {'country_mb':'artist_origin','tags_lastfm':'genres'})"
   ]
  },
  {
   "cell_type": "code",
   "execution_count": 61,
   "metadata": {
    "tags": []
   },
   "outputs": [
    {
     "data": {
      "text/html": [
       "<div>\n",
       "<style scoped>\n",
       "    .dataframe tbody tr th:only-of-type {\n",
       "        vertical-align: middle;\n",
       "    }\n",
       "\n",
       "    .dataframe tbody tr th {\n",
       "        vertical-align: top;\n",
       "    }\n",
       "\n",
       "    .dataframe thead th {\n",
       "        text-align: right;\n",
       "    }\n",
       "</style>\n",
       "<table border=\"1\" class=\"dataframe\">\n",
       "  <thead>\n",
       "    <tr style=\"text-align: right;\">\n",
       "      <th></th>\n",
       "      <th>column_name</th>\n",
       "      <th>missing_count</th>\n",
       "      <th>missing_ratio</th>\n",
       "    </tr>\n",
       "  </thead>\n",
       "  <tbody>\n",
       "    <tr>\n",
       "      <th>19</th>\n",
       "      <td>genres</td>\n",
       "      <td>64615</td>\n",
       "      <td>0.286597</td>\n",
       "    </tr>\n",
       "    <tr>\n",
       "      <th>18</th>\n",
       "      <td>artist_origin</td>\n",
       "      <td>53851</td>\n",
       "      <td>0.238854</td>\n",
       "    </tr>\n",
       "    <tr>\n",
       "      <th>1</th>\n",
       "      <td>artists</td>\n",
       "      <td>12</td>\n",
       "      <td>0.000053</td>\n",
       "    </tr>\n",
       "  </tbody>\n",
       "</table>\n",
       "</div>"
      ],
      "text/plain": [
       "      column_name  missing_count  missing_ratio\n",
       "19         genres          64615       0.286597\n",
       "18  artist_origin          53851       0.238854\n",
       "1         artists             12       0.000053"
      ]
     },
     "execution_count": 61,
     "metadata": {},
     "output_type": "execute_result"
    }
   ],
   "source": [
    "# Now checking the null values and dropping the rows with null values in any of the column\n",
    "df_missing = data.isnull().sum(axis = 0).reset_index()\n",
    "df_missing.columns = ['column_name', 'missing_count']\n",
    "df_missing['missing_ratio'] = df_missing['missing_count']/data.shape[0]\n",
    "df_missing.query('missing_ratio>0').sort_values(by = 'missing_ratio', ascending = False)"
   ]
  },
  {
   "cell_type": "code",
   "execution_count": 62,
   "metadata": {
    "tags": []
   },
   "outputs": [
    {
     "data": {
      "text/plain": [
       "acousticness        0\n",
       "artists             0\n",
       "danceability        0\n",
       "duration_ms         0\n",
       "energy              0\n",
       "explicit            0\n",
       "instrumentalness    0\n",
       "key                 0\n",
       "liveness            0\n",
       "loudness            0\n",
       "mode                0\n",
       "name                0\n",
       "popularity          0\n",
       "release_date        0\n",
       "speechiness         0\n",
       "tempo               0\n",
       "valence             0\n",
       "year                0\n",
       "artist_origin       0\n",
       "genres              0\n",
       "dtype: int64"
      ]
     },
     "execution_count": 62,
     "metadata": {},
     "output_type": "execute_result"
    }
   ],
   "source": [
    "df_cleaned = data.dropna(subset = ['artist_origin','artists','genres'],axis = 0)\n",
    "df_cleaned.isna().sum(axis = 0)"
   ]
  },
  {
   "cell_type": "code",
   "execution_count": 63,
   "metadata": {
    "tags": []
   },
   "outputs": [
    {
     "data": {
      "text/plain": [
       "(156512, 20)"
      ]
     },
     "execution_count": 63,
     "metadata": {},
     "output_type": "execute_result"
    }
   ],
   "source": [
    "# Creating a copy of data to work on\n",
    "df = df_cleaned.copy()\n",
    "df.shape"
   ]
  },
  {
   "cell_type": "code",
   "execution_count": 64,
   "metadata": {
    "tags": []
   },
   "outputs": [
    {
     "data": {
      "text/plain": [
       "(73887, 20)"
      ]
     },
     "execution_count": 64,
     "metadata": {},
     "output_type": "execute_result"
    }
   ],
   "source": [
    "# Doing some processing, like choosing year as discussed\n",
    "min_year = 1979\n",
    "df = df.query(\"year > @min_year\").copy()\n",
    "# Convert duration_ms to duration in seconds\n",
    "df['duration'] = df['duration_ms'] / 1000\n",
    "\n",
    "# Drop the duration_ms column\n",
    "df.drop('duration_ms', axis=1, inplace=True)\n",
    "df.shape"
   ]
  },
  {
   "cell_type": "code",
   "execution_count": 65,
   "metadata": {
    "tags": []
   },
   "outputs": [
    {
     "data": {
      "text/html": [
       "<div>\n",
       "<style scoped>\n",
       "    .dataframe tbody tr th:only-of-type {\n",
       "        vertical-align: middle;\n",
       "    }\n",
       "\n",
       "    .dataframe tbody tr th {\n",
       "        vertical-align: top;\n",
       "    }\n",
       "\n",
       "    .dataframe thead th {\n",
       "        text-align: right;\n",
       "    }\n",
       "</style>\n",
       "<table border=\"1\" class=\"dataframe\">\n",
       "  <thead>\n",
       "    <tr style=\"text-align: right;\">\n",
       "      <th></th>\n",
       "      <th>acousticness</th>\n",
       "      <th>danceability</th>\n",
       "      <th>energy</th>\n",
       "      <th>explicit</th>\n",
       "      <th>instrumentalness</th>\n",
       "      <th>key</th>\n",
       "      <th>liveness</th>\n",
       "      <th>loudness</th>\n",
       "      <th>mode</th>\n",
       "      <th>popularity</th>\n",
       "      <th>speechiness</th>\n",
       "      <th>tempo</th>\n",
       "      <th>valence</th>\n",
       "      <th>year</th>\n",
       "      <th>duration</th>\n",
       "    </tr>\n",
       "  </thead>\n",
       "  <tbody>\n",
       "    <tr>\n",
       "      <th>count</th>\n",
       "      <td>73887.000000</td>\n",
       "      <td>73887.000000</td>\n",
       "      <td>73887.000000</td>\n",
       "      <td>73887.000000</td>\n",
       "      <td>73887.000000</td>\n",
       "      <td>73887.000000</td>\n",
       "      <td>73887.000000</td>\n",
       "      <td>73887.000000</td>\n",
       "      <td>73887.000000</td>\n",
       "      <td>73887.000000</td>\n",
       "      <td>73887.000000</td>\n",
       "      <td>73887.000000</td>\n",
       "      <td>73887.000000</td>\n",
       "      <td>73887.000000</td>\n",
       "      <td>73887.000000</td>\n",
       "    </tr>\n",
       "    <tr>\n",
       "      <th>mean</th>\n",
       "      <td>0.270194</td>\n",
       "      <td>0.572947</td>\n",
       "      <td>0.623204</td>\n",
       "      <td>0.162004</td>\n",
       "      <td>0.094045</td>\n",
       "      <td>5.261115</td>\n",
       "      <td>0.200284</td>\n",
       "      <td>-8.982739</td>\n",
       "      <td>0.683733</td>\n",
       "      <td>47.005820</td>\n",
       "      <td>0.088800</td>\n",
       "      <td>120.083159</td>\n",
       "      <td>0.520840</td>\n",
       "      <td>1999.056816</td>\n",
       "      <td>247.873261</td>\n",
       "    </tr>\n",
       "    <tr>\n",
       "      <th>std</th>\n",
       "      <td>0.304551</td>\n",
       "      <td>0.178310</td>\n",
       "      <td>0.244244</td>\n",
       "      <td>0.368457</td>\n",
       "      <td>0.241324</td>\n",
       "      <td>3.562242</td>\n",
       "      <td>0.175176</td>\n",
       "      <td>5.129790</td>\n",
       "      <td>0.465022</td>\n",
       "      <td>12.571747</td>\n",
       "      <td>0.101303</td>\n",
       "      <td>30.003903</td>\n",
       "      <td>0.254652</td>\n",
       "      <td>11.332604</td>\n",
       "      <td>88.925993</td>\n",
       "    </tr>\n",
       "    <tr>\n",
       "      <th>min</th>\n",
       "      <td>0.000000</td>\n",
       "      <td>0.000000</td>\n",
       "      <td>0.000000</td>\n",
       "      <td>0.000000</td>\n",
       "      <td>0.000000</td>\n",
       "      <td>0.000000</td>\n",
       "      <td>0.000000</td>\n",
       "      <td>-60.000000</td>\n",
       "      <td>0.000000</td>\n",
       "      <td>0.000000</td>\n",
       "      <td>0.000000</td>\n",
       "      <td>0.000000</td>\n",
       "      <td>0.000000</td>\n",
       "      <td>1980.000000</td>\n",
       "      <td>30.080000</td>\n",
       "    </tr>\n",
       "    <tr>\n",
       "      <th>25%</th>\n",
       "      <td>0.020500</td>\n",
       "      <td>0.456000</td>\n",
       "      <td>0.462500</td>\n",
       "      <td>0.000000</td>\n",
       "      <td>0.000000</td>\n",
       "      <td>2.000000</td>\n",
       "      <td>0.093100</td>\n",
       "      <td>-11.216000</td>\n",
       "      <td>0.000000</td>\n",
       "      <td>38.000000</td>\n",
       "      <td>0.034500</td>\n",
       "      <td>96.013500</td>\n",
       "      <td>0.318000</td>\n",
       "      <td>1989.000000</td>\n",
       "      <td>200.095500</td>\n",
       "    </tr>\n",
       "    <tr>\n",
       "      <th>50%</th>\n",
       "      <td>0.132000</td>\n",
       "      <td>0.587000</td>\n",
       "      <td>0.661000</td>\n",
       "      <td>0.000000</td>\n",
       "      <td>0.000024</td>\n",
       "      <td>5.000000</td>\n",
       "      <td>0.130000</td>\n",
       "      <td>-7.688000</td>\n",
       "      <td>1.000000</td>\n",
       "      <td>46.000000</td>\n",
       "      <td>0.046600</td>\n",
       "      <td>117.956000</td>\n",
       "      <td>0.526000</td>\n",
       "      <td>1999.000000</td>\n",
       "      <td>236.253000</td>\n",
       "    </tr>\n",
       "    <tr>\n",
       "      <th>75%</th>\n",
       "      <td>0.458000</td>\n",
       "      <td>0.705000</td>\n",
       "      <td>0.822000</td>\n",
       "      <td>0.000000</td>\n",
       "      <td>0.006290</td>\n",
       "      <td>8.000000</td>\n",
       "      <td>0.258000</td>\n",
       "      <td>-5.440000</td>\n",
       "      <td>1.000000</td>\n",
       "      <td>55.000000</td>\n",
       "      <td>0.090500</td>\n",
       "      <td>139.557000</td>\n",
       "      <td>0.729000</td>\n",
       "      <td>2009.000000</td>\n",
       "      <td>279.933000</td>\n",
       "    </tr>\n",
       "    <tr>\n",
       "      <th>max</th>\n",
       "      <td>0.996000</td>\n",
       "      <td>0.986000</td>\n",
       "      <td>1.000000</td>\n",
       "      <td>1.000000</td>\n",
       "      <td>0.999000</td>\n",
       "      <td>11.000000</td>\n",
       "      <td>0.998000</td>\n",
       "      <td>1.342000</td>\n",
       "      <td>1.000000</td>\n",
       "      <td>100.000000</td>\n",
       "      <td>0.960000</td>\n",
       "      <td>244.091000</td>\n",
       "      <td>0.998000</td>\n",
       "      <td>2020.000000</td>\n",
       "      <td>3816.373000</td>\n",
       "    </tr>\n",
       "  </tbody>\n",
       "</table>\n",
       "</div>"
      ],
      "text/plain": [
       "       acousticness  danceability        energy      explicit  \\\n",
       "count  73887.000000  73887.000000  73887.000000  73887.000000   \n",
       "mean       0.270194      0.572947      0.623204      0.162004   \n",
       "std        0.304551      0.178310      0.244244      0.368457   \n",
       "min        0.000000      0.000000      0.000000      0.000000   \n",
       "25%        0.020500      0.456000      0.462500      0.000000   \n",
       "50%        0.132000      0.587000      0.661000      0.000000   \n",
       "75%        0.458000      0.705000      0.822000      0.000000   \n",
       "max        0.996000      0.986000      1.000000      1.000000   \n",
       "\n",
       "       instrumentalness           key      liveness      loudness  \\\n",
       "count      73887.000000  73887.000000  73887.000000  73887.000000   \n",
       "mean           0.094045      5.261115      0.200284     -8.982739   \n",
       "std            0.241324      3.562242      0.175176      5.129790   \n",
       "min            0.000000      0.000000      0.000000    -60.000000   \n",
       "25%            0.000000      2.000000      0.093100    -11.216000   \n",
       "50%            0.000024      5.000000      0.130000     -7.688000   \n",
       "75%            0.006290      8.000000      0.258000     -5.440000   \n",
       "max            0.999000     11.000000      0.998000      1.342000   \n",
       "\n",
       "               mode    popularity   speechiness         tempo       valence  \\\n",
       "count  73887.000000  73887.000000  73887.000000  73887.000000  73887.000000   \n",
       "mean       0.683733     47.005820      0.088800    120.083159      0.520840   \n",
       "std        0.465022     12.571747      0.101303     30.003903      0.254652   \n",
       "min        0.000000      0.000000      0.000000      0.000000      0.000000   \n",
       "25%        0.000000     38.000000      0.034500     96.013500      0.318000   \n",
       "50%        1.000000     46.000000      0.046600    117.956000      0.526000   \n",
       "75%        1.000000     55.000000      0.090500    139.557000      0.729000   \n",
       "max        1.000000    100.000000      0.960000    244.091000      0.998000   \n",
       "\n",
       "               year      duration  \n",
       "count  73887.000000  73887.000000  \n",
       "mean    1999.056816    247.873261  \n",
       "std       11.332604     88.925993  \n",
       "min     1980.000000     30.080000  \n",
       "25%     1989.000000    200.095500  \n",
       "50%     1999.000000    236.253000  \n",
       "75%     2009.000000    279.933000  \n",
       "max     2020.000000   3816.373000  "
      ]
     },
     "execution_count": 65,
     "metadata": {},
     "output_type": "execute_result"
    }
   ],
   "source": [
    "df.describe()"
   ]
  },
  {
   "cell_type": "code",
   "execution_count": 66,
   "metadata": {
    "tags": []
   },
   "outputs": [],
   "source": [
    "dtypes = {\n",
    "    'acousticness': 'float32',\n",
    "    'danceability': 'float32',\n",
    "    'energy': 'float32',\n",
    "    'explicit': 'bool',\n",
    "    'instrumentalness': 'float32',\n",
    "    'key': 'uint8',\n",
    "    'liveness': 'float32',\n",
    "    'loudness': 'float32',\n",
    "    'mode': 'bool',\n",
    "    'popularity': 'float32',\n",
    "    'speechiness': 'float32',\n",
    "    'tempo': 'float32',\n",
    "    'valence': 'float32',\n",
    "    'year': 'uint16',\n",
    "    'duration': 'float32',\n",
    "    'artists': 'string',\n",
    "    'name': 'string',\n",
    "    'release_date': 'string',\n",
    "    'genres': 'string',\n",
    "    'artist_origin': 'string'\n",
    "}\n",
    "df = df.astype(dtypes) #Changing the dtypes for efficient processing."
   ]
  },
  {
   "cell_type": "code",
   "execution_count": 67,
   "metadata": {
    "tags": []
   },
   "outputs": [
    {
     "name": "stdout",
     "output_type": "stream",
     "text": [
      "<class 'pandas.core.frame.DataFrame'>\n",
      "Int64Index: 73887 entries, 5920 to 225454\n",
      "Data columns (total 20 columns):\n",
      " #   Column            Non-Null Count  Dtype  \n",
      "---  ------            --------------  -----  \n",
      " 0   acousticness      73887 non-null  float32\n",
      " 1   artists           73887 non-null  string \n",
      " 2   danceability      73887 non-null  float32\n",
      " 3   energy            73887 non-null  float32\n",
      " 4   explicit          73887 non-null  bool   \n",
      " 5   instrumentalness  73887 non-null  float32\n",
      " 6   key               73887 non-null  uint8  \n",
      " 7   liveness          73887 non-null  float32\n",
      " 8   loudness          73887 non-null  float32\n",
      " 9   mode              73887 non-null  bool   \n",
      " 10  name              73887 non-null  string \n",
      " 11  popularity        73887 non-null  float32\n",
      " 12  release_date      73887 non-null  string \n",
      " 13  speechiness       73887 non-null  float32\n",
      " 14  tempo             73887 non-null  float32\n",
      " 15  valence           73887 non-null  float32\n",
      " 16  year              73887 non-null  uint16 \n",
      " 17  artist_origin     73887 non-null  string \n",
      " 18  genres            73887 non-null  string \n",
      " 19  duration          73887 non-null  float32\n",
      "dtypes: bool(2), float32(11), string(5), uint16(1), uint8(1)\n",
      "memory usage: 6.8 MB\n"
     ]
    }
   ],
   "source": [
    "df.info()"
   ]
  },
  {
   "cell_type": "code",
   "execution_count": 68,
   "metadata": {
    "tags": []
   },
   "outputs": [],
   "source": [
    "# df.to_csv(\"PowerBI_Spotify_Cleaned_data\",index = 0)"
   ]
  },
  {
   "cell_type": "code",
   "execution_count": 69,
   "metadata": {
    "tags": []
   },
   "outputs": [],
   "source": [
    "# grouped_df = df.groupby(\"name\", sort=False).apply(lambda x: x.reset_index(drop=True))\n",
    "# grouped_df[grouped_df['artists'] == 'Sade']"
   ]
  },
  {
   "cell_type": "markdown",
   "metadata": {},
   "source": [
    "- Observing this we can see that the same song is released in multiple years maybe by different producers or in different albums.\n",
    "- So we will group any feature by songs and take the mean value of the feature before plotting"
   ]
  },
  {
   "cell_type": "markdown",
   "metadata": {},
   "source": [
    "## Plot 1: Distribution of Artist Origins across years\n",
    "### Context\n",
    "- Most artists come from which country for a given year or all the years\n",
    "\n",
    "### Caution\n",
    "- For any year, all countries who have less than 1% of total origins are grouped together into others category"
   ]
  },
  {
   "cell_type": "code",
   "execution_count": 112,
   "metadata": {
    "tags": []
   },
   "outputs": [
    {
     "data": {
      "application/vnd.jupyter.widget-view+json": {
       "model_id": "4e25432482ab4fdea7d0e7c7bab290f4",
       "version_major": 2,
       "version_minor": 0
      },
      "text/plain": [
       "interactive(children=(Dropdown(description='year', options=('All', 1980, 1981, 1982, 1983, 1984, 1985, 1986, 1…"
      ]
     },
     "metadata": {},
     "output_type": "display_data"
    },
    {
     "data": {
      "text/plain": [
       "<function __main__.treemap(year)>"
      ]
     },
     "execution_count": 112,
     "metadata": {},
     "output_type": "execute_result"
    }
   ],
   "source": [
    "import plotly.graph_objects as go\n",
    "import seaborn as sns\n",
    "import numpy as np\n",
    "\n",
    "def treemap(year):\n",
    "    if year != 'All':\n",
    "        data = df.query('year == @year')\n",
    "        title = f'Artist Origins Distribution for {year} - Treemap (Thresholded)'\n",
    "    else:\n",
    "        data = df\n",
    "        min_year = np.min(df['year'])\n",
    "        max_year = np.max(df['year'])\n",
    "        title = f'Artist Origins Distribution from {min_year} to {max_year} - Treemap (Thresholded)'\n",
    "\n",
    "    # Set the threshold count\n",
    "    threshold = 0.01 * data.shape[0]\n",
    "\n",
    "    # Get the counts of artist origins\n",
    "    artist_counts = data['artist_origin'].value_counts()\n",
    "\n",
    "    # Identify countries with counts less than the threshold\n",
    "    other_countries = artist_counts[artist_counts < threshold]\n",
    "\n",
    "    # Sum the counts of other countries\n",
    "    other_count = other_countries.sum()\n",
    "\n",
    "    # Exclude other countries from the main data\n",
    "    filtered_counts = artist_counts.drop(other_countries.index)\n",
    "\n",
    "    # Add the other count as a separate entry\n",
    "    filtered_counts['Other'] = other_count\n",
    "\n",
    "    # Calculate the total size\n",
    "    total_size = filtered_counts.sum()\n",
    "\n",
    "    # Create the treemap\n",
    "    labels = filtered_counts.index.tolist()\n",
    "    values = filtered_counts.tolist()\n",
    "\n",
    "    # Retrieve the muted color palette from Seaborn\n",
    "    color_palette = sns.color_palette(\"muted\")\n",
    "\n",
    "    fig = go.Figure(go.Treemap(\n",
    "        labels=labels,\n",
    "        parents=[\"\"] * len(labels),\n",
    "        values=values,\n",
    "        textinfo=\"label+value+percent parent\",\n",
    "        marker_colors=color_palette[:len(labels)],\n",
    "        hovertemplate=\"<b>%{label}</b><br>Count: %{value}<br>Percentage: %{percentParent:.1%}<extra></extra>\",\n",
    "        textposition='middle center',  # Center the label text in the treemap cells\n",
    "        textfont=dict(\n",
    "            size=30,  # Set the font size for the text inside the treemap\n",
    "            color='black',\n",
    "            family='Times New Roman'\n",
    "        )\n",
    "    ))\n",
    "\n",
    "    fig.update_layout(\n",
    "          title={\n",
    "            'text': title,\n",
    "            'font': {\n",
    "                'size': 24 # Set the font size for the title\n",
    "            }\n",
    "        },\n",
    "        margin=dict(l=0, r=0, t=40, b=0),\n",
    "        width=1800,\n",
    "        height=900,  # Set the background style to sns.darkgrid\n",
    "    )\n",
    "    #fig.write_image(f'{title}.png')\n",
    "    fig.show()\n",
    "\n",
    "years = ['All'] + df['year'].unique().tolist()\n",
    "\n",
    "# Create the interactive plot\n",
    "interact(treemap, year=years)"
   ]
  },
  {
   "cell_type": "code",
   "execution_count": 71,
   "metadata": {
    "tags": []
   },
   "outputs": [],
   "source": [
    "# def treemap(year):\n",
    "#     if year != 'All':\n",
    "#         data = df.query('year == @year')\n",
    "#         title = f'Artist Origins Distribution for {year} - Treemap (Thresholded)'\n",
    "#     else:\n",
    "#         data = df\n",
    "#         min_year = np.min(df['year'])\n",
    "#         max_year = np.max(df['year'])\n",
    "#         title = f'Artist Origins Distribution from {min_year} to {max_year} - Treemap (Thresholded)'\n",
    "\n",
    "#     # Set the threshold count\n",
    "#     threshold = 0.01 * data.shape[0]\n",
    "\n",
    "#     # Get the counts of artist origins\n",
    "#     artist_counts = data['artist_origin'].value_counts()\n",
    "\n",
    "#     # Identify countries with counts less than the threshold\n",
    "#     other_countries = artist_counts[artist_counts < threshold]\n",
    "\n",
    "#     # Sum the counts of other countries\n",
    "#     other_count = other_countries.sum()\n",
    "\n",
    "#     # Exclude other countries from the main data\n",
    "#     filtered_counts = artist_counts.drop(other_countries.index)\n",
    "\n",
    "#     # Add the other count as a separate entry\n",
    "#     filtered_counts['Other'] = other_count\n",
    "\n",
    "#     # Calculate the total size\n",
    "#     total_size = filtered_counts.sum()\n",
    "\n",
    "#     # Create the treemap\n",
    "#     plt.figure(figsize=(24,12))\n",
    "#     squarify.plot(sizes=filtered_counts, label=filtered_counts.index, alpha=0.8, color=sns.color_palette(\"muted\"))\n",
    "#     plt.axis('off')\n",
    "\n",
    "#     # Add percentage labels\n",
    "#     for i, patch in enumerate(plt.gca().patches):\n",
    "#         x, y, dx, dy = patch.get_bbox().bounds\n",
    "#         label = filtered_counts.index[i]\n",
    "#         size = filtered_counts[label]\n",
    "#         percentage = (size / total_size) * 100\n",
    "#         plt.gca().text(x + dx / 2, y + dy / 2, f'\\n\\n{percentage:.1f}%', ha='center', va='center')\n",
    "    \n",
    "#     plt.title(title)\n",
    "#     plt.savefig(title,bbox_inches = 'tight' ,dpi=150)\n",
    "#     plt.show()\n",
    "\n",
    "# years = ['All'] + df['year'].unique().tolist()\n",
    "\n",
    "# # Create the interactive plot\n",
    "# interact(treemap, year=years)\n",
    "# plt.show()"
   ]
  },
  {
   "cell_type": "markdown",
   "metadata": {},
   "source": [
    "### Plot 1 Alternative"
   ]
  },
  {
   "cell_type": "code",
   "execution_count": 72,
   "metadata": {
    "tags": []
   },
   "outputs": [],
   "source": [
    "# # Read the data into a pandas DataFrame\n",
    "# # data = df  # Replace 'your_data_file.csv' with your actual data file path\n",
    "\n",
    "# # Group the data by artist origin and count the number of artists from each region\n",
    "# artist_counts = df['artist_origin'].value_counts()\n",
    "\n",
    "# # Normalize the counts by dividing by the maximum count value\n",
    "# # normalized_counts = artist_counts / artist_counts.max()\n",
    "\n",
    "# # Create the choropleth map using plotly.graph_objects\n",
    "# fig = go.Figure(data=go.Choropleth(\n",
    "#     locations=artist_counts.index,\n",
    "#     z=artist_counts.values,\n",
    "#     locationmode='country names',\n",
    "#     colorscale='ylorrd',\n",
    "#     reversescale=False,  # Reverse the colorscale to have darker blue for higher counts\n",
    "# #     zmin=0,  # Set the minimum value for the color scale\n",
    "# #     zmax=1,  # Set the maximum value for the color scale\n",
    "# ))\n",
    "\n",
    "# # Set the layout properties\n",
    "# fig.update_layout(\n",
    "#     title_text='Artist Origins Count by Country from 1980 to 2020',\n",
    "#     height = 1200,\n",
    "#     width = 1500,\n",
    "#     geo=dict(\n",
    "#         showframe=False,\n",
    "#         showcoastlines=False,\n",
    "#         projection_type='equirectangular'\n",
    "#     ),\n",
    "# )\n",
    "\n",
    "# # Show the figure\n",
    "# fig.show()\n",
    "# plt.show()"
   ]
  },
  {
   "cell_type": "markdown",
   "metadata": {},
   "source": [
    "## Plot 2: Most Popular Artists for Given Year n Place of Origin\n",
    "### Context of Plot\n",
    "- For a given year what are the origins of most popular artists\n",
    "- Who are the most popular artists in a particular year and place of origin\n",
    "\n",
    "### Caution Points\n",
    "- For few countries in a particular year, there is no data available for ex. Taiwan's data seems to be available only for few years.\n",
    "- Another point is in some years for a particular country, we have only few artists, so we can even have top 2 or top 3 artist, and in the worst case only a single artist or no artist from a country\n",
    "- Also because of digitization, I think the new artists are most popular since new generation has access to share there likes, with the new artists, and they don't listen to the old artists that much."
   ]
  },
  {
   "cell_type": "code",
   "execution_count": 113,
   "metadata": {
    "tags": []
   },
   "outputs": [
    {
     "data": {
      "application/vnd.jupyter.widget-view+json": {
       "model_id": "09ab37cb260043f68b0f25d0b973ac86",
       "version_major": 2,
       "version_minor": 0
      },
      "text/plain": [
       "interactive(children=(Dropdown(description='year', options=('All', 1980, 1981, 1982, 1983, 1984, 1985, 1986, 1…"
      ]
     },
     "metadata": {},
     "output_type": "display_data"
    }
   ],
   "source": [
    "import plotly.graph_objects as go\n",
    "import seaborn as sns\n",
    "import numpy as np\n",
    "\n",
    "def create_plot(year, country):\n",
    "    # Filter the data for the selected year and country\n",
    "    if country != 'All':\n",
    "        if year != 'All':\n",
    "            filtered_data = df[(df['year'] == year) & (df['artist_origin'] == country)]\n",
    "            num = 5 if filtered_data.shape[0] > 5 else filtered_data.shape[0]\n",
    "            title = f'Top {country} Artists in Year {year}'\n",
    "        else:\n",
    "            filtered_data = df[df['artist_origin'] == country]\n",
    "            num = 5 if filtered_data.shape[0] > 5 else filtered_data.shape[0]\n",
    "            min_year = np.min(filtered_data.year)\n",
    "            max_year = np.max(filtered_data.year)\n",
    "            title = f'Top Artists from {country} across {min_year} - {max_year}'\n",
    "    else:\n",
    "        if year != 'All':\n",
    "            filtered_data = df[df['year'] == year]\n",
    "            num = 5 if filtered_data.shape[0] > 5 else filtered_data.shape[0]\n",
    "            title = f'Top Artists from all countries in Year {year}'\n",
    "        else:\n",
    "            filtered_data = df\n",
    "            num = 5 if filtered_data.shape[0] > 5 else filtered_data.shape[0]\n",
    "            min_year = np.min(filtered_data.year)\n",
    "            max_year = np.max(filtered_data.year)\n",
    "            title = f'Top Artists from all countries across {min_year} - {max_year}'\n",
    "\n",
    "    # Group the data by artists and calculate the mean popularity per artist\n",
    "    grouped = filtered_data.groupby('artists')['popularity'].mean().reset_index()\n",
    "\n",
    "    # Sort the data by popularity in descending order\n",
    "    sorted_data = grouped.sort_values(by='popularity', ascending=False).head(5)\n",
    "\n",
    "    # Retrieve the muted color palette from Seaborn\n",
    "    color_palette = sns.color_palette(\"muted\").as_hex()\n",
    "\n",
    "    # Create the bar plot using Plotly\n",
    "    fig = go.Figure()\n",
    "\n",
    "    # Create a trace for each artist\n",
    "    for i, artist in enumerate(sorted_data['artists']):\n",
    "        artist_data = sorted_data.loc[sorted_data['artists'] == artist]\n",
    "        artist_country = filtered_data.loc[filtered_data['artists'] == artist, 'artist_origin'].iloc[0]\n",
    "        color = color_palette[i % len(color_palette)]  # Use a color from the palette\n",
    "        fig.add_trace(go.Bar(\n",
    "            x=[artist],\n",
    "            y=artist_data['popularity'],\n",
    "            name=artist,\n",
    "            marker=dict(\n",
    "                color=color,\n",
    "            ),\n",
    "            text=[f'{artist_country}'],  # Display the artist's country and name\n",
    "            textposition='inside',\n",
    "            hovertemplate=\"<b>%{x}</b><br>Popularity: %{y}<extra></extra>\",\n",
    "         textfont=dict(\n",
    "            size=30,  # Set the font size for the text inside the treemap\n",
    "            color='white',\n",
    "            family='Times New Roman'\n",
    "        ),\n",
    "        ))\n",
    "        \n",
    "\n",
    "\n",
    "    fig.update_layout(\n",
    "        title={\n",
    "            'text': title,\n",
    "            'font': {'size': 24}\n",
    "        },\n",
    "        xaxis=dict(\n",
    "            title='Artists',\n",
    "            tickangle=45,\n",
    "            automargin=True,\n",
    "            showgrid=False,\n",
    "            tickfont={'size': 18},\n",
    "            title_font = dict(size = 20),\n",
    "        ),\n",
    "        yaxis=dict(\n",
    "            title='Popularity',\n",
    "            tickmode='linear',\n",
    "            tick0=0,\n",
    "            dtick=5,\n",
    "            showgrid=False,\n",
    "            tickfont={'size': 18},\n",
    "            title_font = dict(size = 20),\n",
    "        ),\n",
    "        \n",
    "        margin=dict(l=0, r=0, t=100, b=0),\n",
    "        showlegend=False,\n",
    "    )\n",
    "\n",
    "    if country == 'All':\n",
    "        for annotation in fig['layout']['annotations']:\n",
    "            annotation['text'] = annotation['text'].split(': ')[1]  # Remove the country name from the annotation text\n",
    "\n",
    "    fig.update_layout(\n",
    "        width=1800,\n",
    "        height=900,\n",
    "    )\n",
    "    #fig.write_image(f'{title}.png')\n",
    "    fig.show()\n",
    "\n",
    "# Get the unique years and countries in the data\n",
    "years = ['All'] + df['year'].unique().tolist()\n",
    "countries = sorted(['All'] + df['artist_origin'].unique().tolist())\n",
    "\n",
    "# Create the interactive plot\n",
    "interact(create_plot, year=years, country=countries)\n",
    "plt.show()"
   ]
  },
  {
   "cell_type": "code",
   "execution_count": 74,
   "metadata": {
    "tags": []
   },
   "outputs": [],
   "source": [
    "# def create_plot(year, country):\n",
    "#     # Filter the data for the selected year and country\n",
    "#     if country != 'All':\n",
    "#         if year !='All':\n",
    "#             filtered_data = df[(df['year'] == year) & (df['artist_origin'] == country)]\n",
    "#             num = 5 if filtered_data.shape[0] > 5 else filtered_data.shape[0] #For some years we have even less than 5 artists\n",
    "# #             print(filtered_data.shape[0])\n",
    "#             title = f'Top {country} Artists in Year {year}'\n",
    "#         else:\n",
    "#             filtered_data = df[df['artist_origin'] == country]\n",
    "#             num = 5 if filtered_data.shape[0] > 5 else filtered_data.shape[0] #For some years we have even less than 5 artists\n",
    "#             min_year = np.min(filtered_data.year)\n",
    "#             max_year = np.max(filtered_data.year)\n",
    "# #             print(filtered_data.shape[0])\n",
    "#             title = f'Top Artists from {country} across {min_year} - {max_year}'\n",
    "#     else:\n",
    "#         if year!='All':\n",
    "#             filtered_data = df[df['year'] == year]\n",
    "#             num = 5 if filtered_data.shape[0] > 5 else filtered_data.shape[0] #For some years we have even less than 5 artists\n",
    "# #             print(filtered_data.shape[0])\n",
    "#             title = f'Top Artists from all countries in Year {year}'\n",
    "#         else:\n",
    "#             filtered_data = df\n",
    "#             num = 5 if filtered_data.shape[0] > 5 else filtered_data.shape[0] #For some years we have even less than 5 artists\n",
    "#             min_year = np.min(filtered_data.year)\n",
    "#             max_year = np.max(filtered_data.year)\n",
    "# #             print(filtered_data.shape[0])\n",
    "#             title = f'Top Artists from all countries across {min_year} - {max_year}'\n",
    "\n",
    "#     # Group the data by artists and calculate the mean popularity per artist\n",
    "#     grouped = filtered_data.groupby('artists')['popularity'].mean().reset_index()\n",
    "\n",
    "#     # Sort the data by popularity in descending order\n",
    "#     sorted_data = grouped.sort_values(by='popularity', ascending=False).head(5)\n",
    "\n",
    "#     # Create the bar plot using Seaborn\n",
    "#     plt.figure(figsize=(24, 12))\n",
    "#     sns.barplot(data=sorted_data, x='artists', y='popularity', palette='muted')\n",
    "#     plt.title(title)\n",
    "#     plt.xlabel('Artists')\n",
    "#     plt.ylabel('Popularity')\n",
    "#     plt.xticks(rotation=45)\n",
    "#     plt.yticks(range(0, int(sorted_data['popularity'].max()) + 6, 5)) # Set y-axis ticks with a fixed increment of 5\n",
    "\n",
    "#     # Add artist origin labels when 'All' is selected\n",
    "#     if country == 'All':\n",
    "#         for i, bar in enumerate(plt.gca().patches):\n",
    "#             artist_name = sorted_data.iloc[i, 0]\n",
    "#             artist_origin = df.loc[df['artists'] == artist_name, 'artist_origin'].iloc[0]\n",
    "#             plt.gca().text(bar.get_x() + bar.get_width() / 2, bar.get_height() / 2, artist_origin, ha='center', va='center', rotation=90)\n",
    "\n",
    "#     plt.tight_layout()\n",
    "#     plt.savefig(title,bbox_inches = 'tight' ,dpi=150)\n",
    "#     plt.show()\n",
    "\n",
    "# # Get the unique years and countries in the data\n",
    "# years = ['All'] + df['year'].unique().tolist()\n",
    "# countries = sorted(['All'] + df['artist_origin'].unique().tolist())\n",
    "\n",
    "# # Create the interactive plot\n",
    "# interact(create_plot, year=years, country=countries)\n",
    "# plt.show()"
   ]
  },
  {
   "cell_type": "markdown",
   "metadata": {},
   "source": [
    "## Plot 3 High Feature Valued Songs distribution across Years and Origins classified wrt Genres\n",
    "### Context\n",
    "- Identifying top 5 songs with high value for a particular feature across countries and time frame\n",
    "- We can even identify what are the genres that have most high feature values across years and time frames\n",
    "\n",
    "### Caution:\n",
    "- We get the values for the features by aggregation, since songs are published multiple times maybe in different playlists\n",
    "- For few countries we don't get top 5 since the data is not available"
   ]
  },
  {
   "cell_type": "code",
   "execution_count": 114,
   "metadata": {
    "tags": []
   },
   "outputs": [
    {
     "data": {
      "application/vnd.jupyter.widget-view+json": {
       "model_id": "c292446e01e34b6eb4f448fd0e9f38b9",
       "version_major": 2,
       "version_minor": 0
      },
      "text/plain": [
       "interactive(children=(Dropdown(description='year', options=('All', 1980, 1981, 1982, 1983, 1984, 1985, 1986, 1…"
      ]
     },
     "metadata": {},
     "output_type": "display_data"
    }
   ],
   "source": [
    "import plotly.express as px\n",
    "import seaborn as sns\n",
    "import numpy as np\n",
    "from ipywidgets import interact\n",
    "\n",
    "def create_plot(year, country, feature, top_n=5):\n",
    "    # Filter the data for the selected feature, countries, and years\n",
    "    data_dummy = df.copy()\n",
    "    data_dummy = data_dummy.loc[:,['name',feature,'artist_origin','year','genres']]\n",
    "    \n",
    "    if country != 'All':\n",
    "        if year !='All':\n",
    "            filtered_data = data_dummy[(data_dummy['year'] == year) & (data_dummy['artist_origin'] == country)]\n",
    "            num = top_n if filtered_data.shape[0] > top_n else filtered_data.shape[0] #For some years we have even less than 5 artists\n",
    "            title = f'Top {feature.capitalize()} {country} Songs in Year {year}'\n",
    "        else:\n",
    "            filtered_data = data_dummy[data_dummy['artist_origin'] == country]\n",
    "            num = top_n if filtered_data.shape[0] > top_n else filtered_data.shape[0] #For some years we have even less than 5 artists\n",
    "            min_year = np.min(filtered_data.year)\n",
    "            max_year = np.max(filtered_data.year)\n",
    "            title = f'Top {feature.capitalize()} Songs from {country} across {min_year} - {max_year}'\n",
    "    else:\n",
    "        if year!='All':\n",
    "            filtered_data = data_dummy[data_dummy['year'] == year]\n",
    "            num = top_n if filtered_data.shape[0] > top_n else filtered_data.shape[0] #For some years we have even less than 5 artists\n",
    "            title = f'Top {feature.capitalize()} Songs from all countries in Year {year}'\n",
    "        else:\n",
    "            filtered_data = data_dummy\n",
    "            num = top_n if filtered_data.shape[0] > top_n else filtered_data.shape[0] #For some years we have even less than 5 artists\n",
    "            min_year = np.min(filtered_data.year)\n",
    "            max_year = np.max(filtered_data.year)\n",
    "            title = f'Top {feature.capitalize()} Songs from all countries across {min_year} - {max_year}'\n",
    "    \n",
    "    # Group the data by artists and calculate the mean popularity per artist\n",
    "    grouped = filtered_data.groupby(['name','genres'])[feature].mean().reset_index()\n",
    "    \n",
    "    # Only taking unique song names \n",
    "    grouped = grouped.drop_duplicates(subset='name')\n",
    "    \n",
    "    # Group the data by name of songs and calculate the mean popularity per song\n",
    "    sorted_data = grouped.sort_values(by=feature, ascending=False).head(top_n)\n",
    "    \n",
    "    # Only using first 2 genres for songs\n",
    "    sorted_data.genres = sorted_data.genres.apply(lambda x: ';'.join(x.split(';')[0:2]))\n",
    "\n",
    "    # Retrieve the muted color palette from Seaborn\n",
    "    color_palette = sns.color_palette(\"muted\").as_hex()\n",
    "\n",
    "    # Merge the 'artist_origin' column from data_dummy based on the 'name' column\n",
    "    sorted_data = sorted_data.merge(data_dummy[['name', 'artist_origin']], on='name', how='left')\n",
    "\n",
    "    sorted_data = sorted_data.drop_duplicates(subset='name')\n",
    "    \n",
    "    # Concatenate 'name' and 'artist_origin' columns into a single column\n",
    "    sorted_data['text'] = sorted_data['artist_origin']\n",
    "\n",
    "    # Create the bar plot using Plotly Express\n",
    "    fig = px.bar(\n",
    "        sorted_data,\n",
    "        x='name',\n",
    "        y=feature,\n",
    "        color='genres',\n",
    "        color_discrete_sequence=color_palette,\n",
    "        text='text',\n",
    "        title=title,\n",
    "        template='plotly_white'\n",
    "    )\n",
    "\n",
    "    fig.update_traces(texttemplate='%{text}<br>%{y:.2f}', textposition='inside',textfont=dict(color = 'white',family = 'Times New Roman',size=30),textangle=0)\n",
    "\n",
    "    fig.update_layout(\n",
    "         title={\n",
    "            'text': title,\n",
    "            'font': {\n",
    "                'size': 24 # Set the font size for the title\n",
    "            }\n",
    "        },\n",
    "        xaxis=dict(\n",
    "            tickfont=dict(size=14),  # Set the font size for x-axis labels and ticks\n",
    "            title='Name of Songs',\n",
    "            title_font=dict(size=16),  # Set the font size for x-axis title\n",
    "        ),\n",
    "        yaxis=dict(\n",
    "            tickfont=dict(size=14),  # Set the font size for y-axis labels and ticks\n",
    "            title=f'{feature.capitalize()}',\n",
    "            title_font=dict(size=16),  # Set the font size for y-axis title\n",
    "        ),\n",
    "        height=600,\n",
    "        margin=dict(l=50, r=50, t=80, b=50),\n",
    "    )\n",
    "    #fig.write_image(f'{title}.png',scale = 6)\n",
    "    fig.show()\n",
    "\n",
    "# Get the unique years and countries in the data\n",
    "years = ['All'] + df['year'].unique().tolist()\n",
    "countries = sorted(['All'] + df['artist_origin'].unique().tolist())\n",
    "features = ['danceability', 'energy', 'acousticness', 'instrumentalness', 'key', 'liveness', 'loudness', 'mode',\n",
    "            'popularity', 'speechiness', 'tempo', 'valence', 'duration']\n",
    "tops = [5, 10, 15]\n",
    "\n",
    "# Create the interactive plot\n",
    "interact(create_plot, year=years, country=countries, feature=features, top_n=tops)\n",
    "plt.show()"
   ]
  },
  {
   "cell_type": "code",
   "execution_count": 76,
   "metadata": {
    "tags": []
   },
   "outputs": [],
   "source": [
    "# def create_plot(year, country, feature, top_n=5):\n",
    "#         # Filter the data for the selected feature then for countries and years\n",
    "#     data_dummy = df.copy()\n",
    "#     data_dummy = data_dummy.loc[:,['name',feature,'artist_origin','year','genres']]\n",
    "    \n",
    "#     if country != 'All':\n",
    "#         if year !='All':\n",
    "#             filtered_data = data_dummy[(data_dummy['year'] == year) & (data_dummy['artist_origin'] == country)]\n",
    "#             num = top_n if filtered_data.shape[0] > top_n else filtered_data.shape[0] #For some years we have even less than 5 artists\n",
    "#             title = f'Top {feature.capitalize()} {country} Songs in Year {year}'\n",
    "#         else:\n",
    "#             filtered_data = data_dummy[data_dummy['artist_origin'] == country]\n",
    "#             num = top_n if filtered_data.shape[0] > top_n else filtered_data.shape[0] #For some years we have even less than 5 artists\n",
    "#             min_year = np.min(filtered_data.year)\n",
    "#             max_year = np.max(filtered_data.year)\n",
    "#             title = f'Top {feature.capitalize()} Songs from {country} across {min_year} - {max_year}'\n",
    "#     else:\n",
    "#         if year!='All':\n",
    "#             filtered_data = data_dummy[data_dummy['year'] == year]\n",
    "#             num = top_n if filtered_data.shape[0] > top_n else filtered_data.shape[0] #For some years we have even less than 5 artists\n",
    "#             title = f'Top {feature.capitalize()} Songs from all countries in Year {year}'\n",
    "#         else:\n",
    "#             filtered_data = data_dummy\n",
    "#             num = top_n if filtered_data.shape[0] > top_n else filtered_data.shape[0] #For some years we have even less than 5 artists\n",
    "#             min_year = np.min(filtered_data.year)\n",
    "#             max_year = np.max(filtered_data.year)\n",
    "#             title = f'Top {feature.capitalize()} Songs from all countries across {min_year} - {max_year}'\n",
    "    \n",
    "#     # Group the data by artists and calculate the mean popularity per artist\n",
    "#     grouped = filtered_data.groupby(['name','genres'])[feature].mean().reset_index()\n",
    "    \n",
    "#     # Only taking unique song names \n",
    "#     grouped = grouped.drop_duplicates(subset='name')\n",
    "    \n",
    "#     # Group the data by name of songs and calculate the mean popularity per song\n",
    "#     sorted_data = grouped.sort_values(by=feature, ascending=False).head(top_n)\n",
    "    \n",
    "#     # Only using first 2 genres for songs\n",
    "#     sorted_data.genres = sorted_data.genres.apply(lambda x: ';'.join(x.split(';')[0:2]))\n",
    "#     # ... existing code ...\n",
    "\n",
    "#     # Create the bar plot using Seaborn\n",
    "#     plt.figure(figsize=(24, 12))\n",
    "\n",
    "#     # Calculate the bar width\n",
    "#     bar_width = 3/sorted_data.shape[0]\n",
    "\n",
    "#     sns.barplot(\n",
    "#         data=sorted_data,\n",
    "#         x='name',\n",
    "#         y=feature,\n",
    "#         palette='muted',\n",
    "#         hue='genres',\n",
    "#         width=bar_width  # Set the bar width\n",
    "#     )\n",
    "    \n",
    "    \n",
    "#     for i, bar in enumerate(plt.gca().patches):\n",
    "#         if i < top_n:\n",
    "#             mean_value = sorted_data.iloc[i, 2]\n",
    "#             song_name = sorted_data.iloc[i, 0]\n",
    "#             origin = df.loc[df['name'] == song_name, 'artist_origin'].iloc[0]\n",
    "#         if country == 'All':\n",
    "#             plt.gca().text(\n",
    "#                 bar.get_x() + bar.get_width() / 2,\n",
    "#                 bar.get_height() / 2,\n",
    "#                 f'{mean_value:.2f} in {origin}',\n",
    "#                 ha='center',\n",
    "#                 va='center',\n",
    "#                 rotation=90\n",
    "#             )\n",
    "#         else:\n",
    "#             plt.gca().text(\n",
    "#                 bar.get_x() + bar.get_width() / 2,\n",
    "#                 bar.get_height() / 2,\n",
    "#                 f'{mean_value:.2f}',\n",
    "#                 ha='center',\n",
    "#                 va='center'\n",
    "#             )\n",
    "\n",
    "#     # ... existing code ...\n",
    "\n",
    "#     # Customize the x-axis ticks\n",
    "#     xticks = np.arange(len(sorted_data)) #+ (bar_width/2.7)  # Add half of the bar width\n",
    "#     plt.xticks(xticks, sorted_data['name'], rotation=36)\n",
    "#     plt.gca().xaxis.set_tick_params(width=1)  # Set the tick width\n",
    "\n",
    "#     # ... existing code ...\n",
    "#     plt.xlabel('Name of Songs')\n",
    "#     plt.ylabel(f'{feature.capitalize()}')\n",
    "#     plt.title(title)\n",
    "#     plt.tight_layout()\n",
    "#     plt.savefig(title, bbox_inches='tight', dpi=150)\n",
    "#     plt.show()\n",
    "\n",
    "\n",
    "# # Get the unique years and countries in the data\n",
    "# years = ['All'] + df['year'].unique().tolist()\n",
    "# countries = sorted(['All'] + df['artist_origin'].unique().tolist())\n",
    "# features = ['danceability', 'energy', 'acousticness','instrumentalness', 'key', 'liveness', 'loudness', 'mode', 'popularity','speechiness', 'tempo', 'valence', 'duration']\n",
    "# tops = [5,10,15]\n",
    "# # Removed Explicit: Whether or not the track has explicit lyrics (true = yes it does; false = no it does not OR unknown); Not that important\n",
    "# # Removed Year as it's not a feature for a song\n",
    "\n",
    "# # Create the interactive plot\n",
    "# interact(create_plot, year=years,country=countries, feature = features, top_n=tops)\n",
    "# plt.show()"
   ]
  },
  {
   "cell_type": "markdown",
   "metadata": {},
   "source": [
    "## Plot 4: Distribution of Features across countries\n",
    "- Able to answer questions such as which countries has most danceable songs, most loud songs and so on in a given time frame."
   ]
  },
  {
   "cell_type": "code",
   "execution_count": 115,
   "metadata": {
    "tags": []
   },
   "outputs": [
    {
     "data": {
      "application/vnd.jupyter.widget-view+json": {
       "model_id": "970ad343987d4352a8b3ac0db390fc53",
       "version_major": 2,
       "version_minor": 0
      },
      "text/plain": [
       "interactive(children=(Dropdown(description='feature', options=('danceability', 'energy', 'acousticness', 'inst…"
      ]
     },
     "metadata": {},
     "output_type": "display_data"
    }
   ],
   "source": [
    "def update_plot(feature):\n",
    "    # Group the data by artist origin and calculate the mean of the selected feature per country\n",
    "    feature_means = df.groupby('artist_origin')[feature].mean()\n",
    "    world = gpd.read_file(gpd.datasets.get_path('naturalearth_lowres'))\n",
    "    # Merge the data with the world shapefile based on the country names\n",
    "    merged_data = world.merge(feature_means, left_on='name', right_index=True)\n",
    "\n",
    "    # Create a choropleth map using plotly\n",
    "    fig = go.Figure(data=go.Choropleth(\n",
    "        locations=merged_data['iso_a3'],\n",
    "        z=merged_data[feature],\n",
    "        text=merged_data['name'],\n",
    "        colorscale='Viridis',\n",
    "        autocolorscale=False,\n",
    "        marker_line_color='white',\n",
    "        marker_line_width=0.5,\n",
    "        colorbar_title=f'{feature.capitalize()}'\n",
    "    ))\n",
    "    title = f'{feature.capitalize()} Distribution by Country'\n",
    "    # Customize the layout\n",
    "    fig.update_layout(\n",
    "        title_text=title,\n",
    "        height=900,\n",
    "        width=1800,\n",
    "        geo=dict(\n",
    "            showframe=False,\n",
    "            showcoastlines=False,\n",
    "            projection_type='equirectangular'\n",
    "        )\n",
    "    )\n",
    "    # Save the plot\n",
    "    fig.write_image(f'{title}.png')  # Save as PNG image\n",
    "    fig.show()\n",
    "    return title\n",
    "\n",
    "features = ['danceability', 'energy', 'acousticness','instrumentalness', 'key', 'liveness', 'loudness', 'mode', 'popularity','speechiness', 'tempo', 'valence', 'duration']\n",
    "# Use interact to create the interactive dropdown widget\n",
    "interact(update_plot, feature=Dropdown(options=features))\n",
    "plt.show()"
   ]
  },
  {
   "cell_type": "markdown",
   "metadata": {},
   "source": [
    "### Rest Good Plots"
   ]
  },
  {
   "cell_type": "code",
   "execution_count": 135,
   "metadata": {
    "tags": []
   },
   "outputs": [
    {
     "data": {
      "application/vnd.jupyter.widget-view+json": {
       "model_id": "40d94afd81e24629bbaf1ca4e1b1b96c",
       "version_major": 2,
       "version_minor": 0
      },
      "text/plain": [
       "interactive(children=(Dropdown(description='feature', options=('acousticness', 'danceability', 'duration', 'en…"
      ]
     },
     "metadata": {},
     "output_type": "display_data"
    }
   ],
   "source": [
    "import plotly.graph_objects as go\n",
    "\n",
    "# Function to create the interactive histogram plot with KDE\n",
    "def plot_histogram(feature):\n",
    "    fig = go.Figure()\n",
    "\n",
    "    for year in df['year'].unique():\n",
    "        year_data = df[df['year'] == year][feature]\n",
    "        hist_trace = go.Histogram(x=year_data, nbinsx=30, histnorm='density', name=f'Year {year}', opacity=0.7)\n",
    "        kde_trace = go.Scatter(x=year_data, y=year_data, mode='lines', name=f'KDE - Year {year}')\n",
    "        fig.add_trace(hist_trace)\n",
    "        fig.add_trace(kde_trace)\n",
    "\n",
    "    title = f'{feature.capitalize()} Distribution by Year'\n",
    "    fig.update_layout(\n",
    "        title={\n",
    "            'text': title,\n",
    "            'font': {'size': 24}\n",
    "        },\n",
    "        xaxis=dict(\n",
    "            title='Mean Value',\n",
    "            tickfont={'size': 18},\n",
    "            title_font=dict(size=20),\n",
    "        ),\n",
    "        yaxis=dict(\n",
    "            title='Density',\n",
    "            tickfont={'size': 18},\n",
    "            title_font=dict(size=20),\n",
    "        ),\n",
    "        margin=dict(l=0, r=0, t=100, b=0),\n",
    "        showlegend=True,\n",
    "    )\n",
    "\n",
    "    fig.update_layout(\n",
    "        # width=1500,\n",
    "        height=900,\n",
    "    )\n",
    "\n",
    "    fig.show()\n",
    "\n",
    "# Create the interactive dropdown widget using interact\n",
    "interact(plot_histogram, feature=features)\n",
    "plt.show()"
   ]
  },
  {
   "cell_type": "code",
   "execution_count": 88,
   "metadata": {
    "tags": []
   },
   "outputs": [
    {
     "data": {
      "application/vnd.jupyter.widget-view+json": {
       "model_id": "fbffe7e04cdd4dae8ee822fadd54a8a8",
       "version_major": 2,
       "version_minor": 0
      },
      "text/plain": [
       "interactive(children=(Dropdown(description='Select Feature', options=('acousticness', 'danceability', 'duratio…"
      ]
     },
     "metadata": {},
     "output_type": "display_data"
    }
   ],
   "source": [
    "# The distribution of features over the years by aggregating them detailed of this is the plot below this\n",
    "\n",
    "# Define the list of features\n",
    "features = ['acousticness', 'danceability', 'duration', 'energy', 'explicit',\n",
    "            'instrumentalness', 'liveness', 'loudness', 'popularity', 'speechiness',\n",
    "            'tempo', 'valence']\n",
    "\n",
    "# Function to create the interactive histogram plot\n",
    "def plot_histogram(feature):\n",
    "    # Create the histogram plot using seaborn\n",
    "    plt.figure(figsize=(20, 12))\n",
    "    sns.histplot(data=df, x=feature, bins=30, kde=True, hue='year', multiple='stack', palette='viridis')\n",
    "    title = f'{feature.capitalize()} Distribution by Year'\n",
    "    plt.title(title)\n",
    "    plt.xlabel('Mean Value')\n",
    "    plt.ylabel('Frequency')\n",
    "    plt.legend(title='Year')\n",
    "    plt.savefig(title, bbox_inches='tight', dpi=150)\n",
    "    plt.show()\n",
    "\n",
    "# Create the interactive dropdown widget using interact\n",
    "interact(plot_histogram, feature=Dropdown(options=features, description='Select Feature'))\n",
    "plt.show()"
   ]
  },
  {
   "cell_type": "code",
   "execution_count": 133,
   "metadata": {
    "tags": []
   },
   "outputs": [
    {
     "data": {
      "application/vnd.jupyter.widget-view+json": {
       "model_id": "ac55ddb2baf14f6ba0e296f6f4d56bd6",
       "version_major": 2,
       "version_minor": 0
      },
      "text/plain": [
       "interactive(children=(Dropdown(description='feature', options=('acousticness', 'danceability', 'duration', 'en…"
      ]
     },
     "metadata": {},
     "output_type": "display_data"
    }
   ],
   "source": [
    "import plotly.graph_objects as go\n",
    "\n",
    "# Function to create the interactive histogram plot\n",
    "def plot_histogram(feature):\n",
    "    # Group the data by year and calculate the mean of the selected feature per year\n",
    "    feature_means = df.groupby('year')[feature].mean()\n",
    "\n",
    "    # Create the bar trace using Plotly\n",
    "    bar_trace = go.Bar(x=feature_means.index, y=feature_means, marker_color='purple')\n",
    "\n",
    "    # Set the plot title and labels\n",
    "    title = f'Mean {feature.capitalize()} by Year'\n",
    "    x_label = 'Year'\n",
    "    y_label = 'Mean Value'\n",
    "\n",
    "    # Create the layout\n",
    "    layout = go.Layout(\n",
    "        title=title,\n",
    "        xaxis=dict(title=x_label, tickangle=45, automargin=True),\n",
    "        yaxis=dict(title=y_label),\n",
    "        showlegend=False\n",
    "    )\n",
    "\n",
    "    # Create the figure and add the bar trace\n",
    "    fig = go.Figure(data=[bar_trace], layout=layout)\n",
    "    fig.update_layout(\n",
    "        title={\n",
    "            'text': title,\n",
    "            'font': {'size': 24}\n",
    "        },\n",
    "        xaxis=dict(\n",
    "            title='Mean Value',\n",
    "            tickfont={'size': 18},\n",
    "            title_font=dict(size=20),\n",
    "        ),\n",
    "        yaxis=dict(\n",
    "            title='Density',\n",
    "            tickfont={'size': 18},\n",
    "            title_font=dict(size=20),\n",
    "        ),\n",
    "        margin=dict(l=0, r=0, t=100, b=0),\n",
    "        showlegend=True,\n",
    "    )\n",
    "\n",
    "    fig.update_layout(\n",
    "        # width=1500,\n",
    "        height=900,\n",
    "    )\n",
    "\n",
    "    # Show the figure\n",
    "    fig.show()\n",
    "\n",
    "# Create the interactive dropdown widget using interact\n",
    "interact(plot_histogram, feature=features)\n",
    "plt.show()"
   ]
  },
  {
   "cell_type": "code",
   "execution_count": 134,
   "metadata": {
    "tags": []
   },
   "outputs": [],
   "source": [
    "# # Read the data into a pandas DataFrame\n",
    "# # data = df  # Replace 'your_data_file.csv' with your actual data file path\n",
    "\n",
    "# # Define the list of features\n",
    "# features = ['acousticness', 'danceability', 'duration', 'energy', 'explicit',\n",
    "#             'instrumentalness', 'liveness', 'loudness', 'popularity', 'speechiness',\n",
    "#             'tempo', 'valence']\n",
    "\n",
    "# # Define the number of light colors to select\n",
    "# num_colors = len(features)\n",
    "\n",
    "# desired_colors = ['tab:purple', 'tab:orange', 'tab:green', 'tab:blue']\n",
    "\n",
    "# # Function to create the interactive histogram plot\n",
    "# def plot_histogram(feature):\n",
    "#     # Select random light colors from 'tab10' palette\n",
    "# #     palette = random.sample(sns.color_palette('tab10', 10)[:5], 1)\n",
    "\n",
    "#     # Group the data by year and calculate the mean of the selected feature per year\n",
    "#     feature_means = df.groupby('year')[feature].mean()\n",
    "    \n",
    "#     # Select a random light color from the palette\n",
    "#     color = random.choice(desired_colors)\n",
    "    \n",
    "#     fig, ax = plt.subplots(1,1, figsize = (20,12),dpi = 120)\n",
    "    \n",
    "#     # Create the bar plot for the means using seaborn\n",
    "#     ax = sns.barplot(x=feature_means.index, y=feature_means, color=color)\n",
    "    \n",
    "#     # Set the plot title and labels\n",
    "#     title = f'Mean {feature.capitalize()} by Year'\n",
    "#     ax.set_title(title)\n",
    "#     ax.set_xlabel('Year')\n",
    "#     ax.set_ylabel('Mean Value')\n",
    "    \n",
    "#     # Rotate and evenly space the year labels on the x-axis\n",
    "#     ax.set_xticklabels(ax.get_xticklabels(), rotation=90)\n",
    "#     ax.xaxis.set_tick_params(pad=10)\n",
    "    \n",
    "#     # Show the plot\n",
    "#     plt.tight_layout()\n",
    "#     plt.savefig(title, bbox_inches='tight', dpi=150)\n",
    "#     plt.show()\n",
    "\n",
    "# # Create the interactive dropdown widget using interact\n",
    "# interact(plot_histogram, feature=Dropdown(options=features, description='Select Feature'))\n",
    "# plt.show()"
   ]
  },
  {
   "cell_type": "markdown",
   "metadata": {},
   "source": [
    "## Rough Plots"
   ]
  },
  {
   "cell_type": "code",
   "execution_count": 81,
   "metadata": {},
   "outputs": [],
   "source": [
    "# ac = df.copy()\n",
    "# # ac[['genre_1', 'genre_2', 'genre_3','rest_genres']] = ac.genres.str.split(';', n=3, expand=True)"
   ]
  },
  {
   "cell_type": "code",
   "execution_count": 82,
   "metadata": {},
   "outputs": [],
   "source": [
    "# ac.isnull().sum()"
   ]
  },
  {
   "cell_type": "code",
   "execution_count": 83,
   "metadata": {
    "tags": []
   },
   "outputs": [],
   "source": [
    "# import geopandas as gpd\n",
    "# import pandas as pd\n",
    "# import plotly.graph_objects as go\n",
    "# from ipywidgets import interact, Dropdown\n",
    "\n",
    "# # Read the world shapefile\n",
    "# world = gpd.read_file(gpd.datasets.get_path('naturalearth_lowres'))\n",
    "\n",
    "# # Read the data containing country and genre information\n",
    "# data = ac\n",
    "\n",
    "# # Define the function to update the plot based on the selected year\n",
    "# def update_plot(year):\n",
    "#     # Filter the data for the selected year\n",
    "#     filtered_data = data[data['year'] == year]\n",
    "\n",
    "#     # Calculate the genre distribution by country\n",
    "#     genre_distribution = filtered_data.groupby('artist_origin')['genres'].value_counts().unstack().reset_index().fillna(0)\n",
    "\n",
    "#     # Merge the data with the world shapefile based on the country names\n",
    "#     merged_data = world.merge(genre_distribution, left_on='name', right_on='artist_origin')\n",
    "\n",
    "#     # Create a stacked bar plot using plotly\n",
    "#     fig = go.Figure()\n",
    "\n",
    "#     for genre in genre_distribution.columns[1:]:\n",
    "#         fig.add_trace(go.Choropleth(\n",
    "#             locations=merged_data['iso_a3'],\n",
    "#             z=merged_data[genre],\n",
    "#             text=merged_data['name'],\n",
    "#             colorscale='Viridis',\n",
    "#             autocolorscale=False,\n",
    "#             marker_line_color='white',\n",
    "#             marker_line_width=0.5,\n",
    "#             colorbar_title='Count',\n",
    "#             name=genre\n",
    "#         ))\n",
    "\n",
    "#     # Customize the layout\n",
    "#     fig.update_layout(\n",
    "#         title_text=f'Genre Distribution by Country in {year}',\n",
    "#         height=1200,\n",
    "#         width=1500,\n",
    "#         barmode='stack',\n",
    "#         geo=dict(\n",
    "#             showframe=False,\n",
    "#             showcoastlines=False,\n",
    "#             projection_type='equirectangular'\n",
    "#         )\n",
    "#     )\n",
    "\n",
    "#     # Show the plot\n",
    "#     fig.show()\n",
    "\n",
    "# # Get the unique years from the data\n",
    "# years = data['year'].unique().tolist()\n",
    "\n",
    "# # Use interact to create the interactive dropdown widget\n",
    "# interact(update_plot, year=Dropdown(options=years))\n",
    "# plt.show()"
   ]
  }
 ],
 "metadata": {
  "kernelspec": {
   "display_name": "Python 3 (ipykernel)",
   "language": "python",
   "name": "python3"
  },
  "language_info": {
   "codemirror_mode": {
    "name": "ipython",
    "version": 3
   },
   "file_extension": ".py",
   "mimetype": "text/x-python",
   "name": "python",
   "nbconvert_exporter": "python",
   "pygments_lexer": "ipython3",
   "version": "3.10.9"
  }
 },
 "nbformat": 4,
 "nbformat_minor": 4
}
